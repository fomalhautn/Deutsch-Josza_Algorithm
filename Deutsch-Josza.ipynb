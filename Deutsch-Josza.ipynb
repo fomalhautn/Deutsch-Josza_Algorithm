{
 "cells": [
  {
   "cell_type": "markdown",
   "id": "93c80cba-0a71-4f3b-967d-e2be1187f1c8",
   "metadata": {},
   "source": [
    "<table>\n",
    "    <tr>\n",
    "      <td>\n",
    "      <img src='https://www.pngitem.com/pimgs/m/432-4321754_eu-logo-european-union-hd-png-download.png' width=450>\n",
    "      </td>\n",
    "      <td>\n",
    "      <img src='https://www.ideal-ist.eu/sites/default/files/2018-10/logo_quantum_flagship.jpg' width=510>\n",
    "      </td>\n",
    "      <td>\n",
    "      <img src='https://newsroom.unl.edu/announce/files/file143411.jpg' width=310>\n",
    "      </td>\n",
    "     </tr>\n",
    "</table>\n",
    "\n",
    "<div style=\"text-align: center; margin: 50px\">\n",
    "\n",
    "<h1 style=\"text-align: center;\"><a href=\"https://qtom.qtedu.eu/shared-course/qtom-fridays-a-trip-through-the-world-of-quantum-technology/\">QTOM Fridays – A trip through the world of Quantum Technology</a></h1> \n",
    "<h2 style=\"text-align: center;\">Summer Semester 2022</h2>\n",
    "<h2 style=\"text-align: center;\"><a href=\"https://qt.eu/\">European Union Quantum Flagship /</a> <a href=\"https://qtom.qtedu.eu/\">QTEdu Quantum Technology Open Master</a></h2>\n",
    "<h2 style=\"text-align: center;\">IBM Quantum</h2>\n",
    "<h3>Deutsch Josza Algorithm</h3>\n",
    "<h3>Anastasiia Andriievska</h3>\n",
    "\n",
    "</div>"
   ]
  },
  {
   "cell_type": "code",
   "execution_count": 12,
   "id": "c5abee56-a986-43bf-b4c2-d15481c071c2",
   "metadata": {},
   "outputs": [
    {
     "name": "stderr",
     "output_type": "stream",
     "text": [
      "ibmqfactory.load_account:WARNING:2022-06-21 12:09:18,977: Credentials are already in use. The existing account in the session will be replaced.\n"
     ]
    }
   ],
   "source": [
    "import numpy as np\n",
    "from numpy import pi \n",
    "# Importing standard Qiskit libraries\n",
    "from qiskit import QuantumCircuit, transpile, Aer, IBMQ, assemble, execute\n",
    "from qiskit.tools.jupyter import *\n",
    "from qiskit.visualization import *\n",
    "from ibm_quantum_widgets import *\n",
    "from qiskit.compiler import transpile\n",
    "from qiskit.transpiler import PassManager\n",
    "from qiskit.tools import job_monitor\n",
    "from qiskit.test.mock import FakeTokyo\n",
    "simulator = Aer.get_backend('aer_simulator')\n",
    "\n",
    "# Loading your IBM Quantum account(s)\n",
    "provider = IBMQ.load_account()"
   ]
  },
  {
   "cell_type": "markdown",
   "id": "15928d8f-e4dd-4fe3-91b7-61352b38e9f8",
   "metadata": {
    "tags": []
   },
   "source": [
    "## Oracles and the Deutsch-Jozsa algorithm"
   ]
  },
  {
   "cell_type": "markdown",
   "id": "a043843f-4029-44b7-991f-b16eaf11bf55",
   "metadata": {},
   "source": [
    "Many quantum algoritms revolve around the notion of so called $\\textit{oracles}$. An oracle is a function that can be considered as a 'black box'. We generally want to find out specific properties of this function. We do this by asking questions to the oracle ($\\textit{querying}$). The query complexity is then defined as the minimum number of queries in order to find these properties.\n",
    "\n",
    "\n",
    "To get familiar with the use of oracles we will now consider the Deutsch-Josza problem. We will see that the quantum solution has a drastically lower query complexity than its classical counterpart.\n"
   ]
  },
  {
   "cell_type": "markdown",
   "id": "5b96f1b8-1623-4bb7-89b2-c8675c23f0ec",
   "metadata": {},
   "source": [
    "\n",
    "### 1: Deutsch-Jozsa Problem <a id='djproblem'> </a>\n",
    "\n",
    "We are given a hidden Boolean function $f$, which takes as input a string of bits, and returns either $0$ or $1$, that is:\n",
    "\n",
    "$$\n",
    "f(\\{x_0,x_1,x_2,...\\}) \\rightarrow 0 \\textrm{ or } 1 \\textrm{ , where } x_n \\textrm{ is } 0 \\textrm{ or } 1$$\n",
    "\n",
    "The property of the given Boolean function is that it is guaranteed to either be balanced or constant. A constant function returns all $0$'s or all $1$'s for any input, while a balanced function returns $0$'s for exactly half of all inputs and $1$'s for the other half. Our task is to determine whether the given function is balanced or constant.\n",
    "\n",
    "The Deutsch-Jozsa algorithm was the first example of a quantum algorithm that performs better than the best classical algorithm. It showed that there can be advantages to using a quantum computer as a computational tool for a specific problem.\n"
   ]
  },
  {
   "cell_type": "code",
   "execution_count": null,
   "id": "0a10a944-422a-420e-adaf-7d4698b77e3f",
   "metadata": {},
   "outputs": [],
   "source": [
    "oraclenr = 3 # determines the oracle (can range from 1 to 5)\n",
    "oracle = dj_problem_oracle(oraclenr) # gives one out of 5 oracles\n",
    "oracle.name = \"DJ-Oracle\""
   ]
  },
  {
   "cell_type": "markdown",
   "id": "2faf209d-cc5e-4c5e-be7d-f7e030777e68",
   "metadata": {},
   "source": [
    "This function gives a certain oracle with 5 input qubits. The last qubit ($q_4$) will be the output. In order to get a feeling for the oracle, let us create a circuit to which we add the oracle such that we can pass it different input strings and then measure the output of $q_4$. This corresponds to the classical way of determining whether the oracle is balanced or constant."
   ]
  },
  {
   "cell_type": "code",
   "execution_count": 3,
   "id": "1e6210a8-af90-43da-b335-7dabc043132b",
   "metadata": {},
   "outputs": [
    {
     "data": {
      "image/png": "[encoded data removed]",
      "text/plain": [
       "<Figure size 327.397x385.28 with 1 Axes>"
      ]
     },
     "execution_count": 3,
     "metadata": {},
     "output_type": "execute_result"
    }
   ],
   "source": [
    "def dj_classical(n, input_str):\n",
    "    \n",
    "    # build a quantum circuit with n qubits and 1 classical readout bit\n",
    "    dj_circuit = QuantumCircuit(n+1,1)\n",
    "    \n",
    "    # Prepare the initial state corresponding to your input bit string\n",
    "    for i in range(n):\n",
    "        if input_str[i] == '1':\n",
    "            dj_circuit.x(i)\n",
    "    \n",
    "    # append oracle\n",
    "    dj_circuit.append(oracle, range(n+1))\n",
    "    \n",
    "    # measure the fourth qubit \n",
    "    dj_circuit.measure(n,0)\n",
    "    \n",
    "    return dj_circuit\n",
    "    \n",
    "n = 4 # number of qubits\n",
    "input_str = '1111'\n",
    "dj_circuit = dj_classical(n, input_str)\n",
    "dj_circuit.draw() # draw the circuit"
   ]
  },
  {
   "cell_type": "markdown",
   "id": "7a447b11-020e-464e-9b36-04cc36f842de",
   "metadata": {},
   "source": [
    "Now we simulate the results to find the outcome of this circuit. Try different input bit strings (4 bits) to see the corresponding outputs!"
   ]
  },
  {
   "cell_type": "code",
   "execution_count": 4,
   "id": "029e3071-72e0-4ebe-be55-df471fb3bc40",
   "metadata": {},
   "outputs": [
    {
     "data": {
      "image/png": "[encoded data removed]",
      "text/plain": [
       "<Figure size 504x360 with 1 Axes>"
      ]
     },
     "execution_count": 4,
     "metadata": {},
     "output_type": "execute_result"
    }
   ],
   "source": [
    "input_str='1111'   #e.g. try '1111', '0010', '1100'\n",
    "dj_circuit = dj_classical(n, input_str)\n",
    "qasm_sim = Aer.get_backend('qasm_simulator')\n",
    "transpiled_dj_circuit = transpile(dj_circuit, qasm_sim)\n",
    "qobj = assemble(transpiled_dj_circuit, qasm_sim)\n",
    "results = qasm_sim.run(qobj).result()\n",
    "answer = results.get_counts()\n",
    "plot_histogram(answer)"
   ]
  },
  {
   "cell_type": "markdown",
   "id": "38afbd93-a1ad-4986-a21d-60275c43c78a",
   "metadata": {},
   "source": [
    "### 2: Quantum Solution to the Deutsch-Josza Problem\n",
    "\n",
    "Using a quantum computer, we can find out if the oracle is constant or balanced with 100% confidence after only one call to the function $f(x)$, provided we have the function $f$ implemented as a quantum oracle, which maps the state $\\vert x\\rangle \\vert y\\rangle $ to $ \\vert x\\rangle \\vert y \\oplus f(x)\\rangle$, where $\\oplus$ is addition modulo $2$. Below we will walk through the algorithm.\n",
    "\n",
    "We start by preparing two quantum registers. The first is an $n$-qubit register initialised to $|0\\rangle$, and the second is a one-qubit register initialised to $|-\\rangle =\\frac{1}{\\sqrt{2}}\\left(|0\\rangle - |1 \\rangle \\right)$. Note, that with Qiskit states are described as $\\vert b_3 b_2 b_1 b_0\\rangle_{q_3q_2q_1q_0}$, i.e. just like for binary numbers, the last bit $b_0$ corresponds to the state of the first qubit. Thus, we want to initialize the state $$\\vert \\psi_0 \\rangle = \\vert -\\rangle \\otimes \\vert0\\rangle^{\\otimes n}.$$"
   ]
  },
  {
   "cell_type": "code",
   "execution_count": 1,
   "id": "e2510c64-02b7-41d2-b4e2-d8ac68e946e3",
   "metadata": {},
   "outputs": [
    {
     "name": "stderr",
     "output_type": "stream",
     "text": [
      "<frozen importlib._bootstrap>:219: RuntimeWarning: scipy._lib.messagestream.MessageStream size changed, may indicate binary incompatibility. Expected 56 from C header, got 64 from PyObject\n"
     ]
    },
    {
     "data": {
      "application/vnd.jupyter.widget-view+json": {
       "model_id": "b70f2d74ba394d1491417bdfd826c02e",
       "version_major": 2,
       "version_minor": 0
      },
      "text/plain": [
       "HBox(children=(Button(description='H⊗ⁿ', style=ButtonStyle()), Button(description='Oracle', style=ButtonStyle(…"
      ]
     },
     "metadata": {},
     "output_type": "display_data"
    },
    {
     "data": {
      "application/vnd.jupyter.widget-view+json": {
       "model_id": "cd6a7b3f2db849e899aec4e1e8122e8f",
       "version_major": 2,
       "version_minor": 0
      },
      "text/plain": [
       "HTMLMath(value='$$ |00\\\\rangle = |00\\\\rangle $$')"
      ]
     },
     "metadata": {},
     "output_type": "display_data"
    },
    {
     "data": {
      "application/vnd.jupyter.widget-view+json": {
       "model_id": "25fbd4026e5f407ca75dbf0d79631742",
       "version_major": 2,
       "version_minor": 0
      },
      "text/plain": [
       "Image(value=b'\\x89PNG\\r\\n\\x1a\\n\\x00\\x00\\x00\\rIHDR\\x00\\x00\\x00\\xce\\x00\\x00\\x00\\xcc\\x08\\x06\\x00\\x00\\x00;\\xd7\\x9c…"
      ]
     },
     "metadata": {},
     "output_type": "display_data"
    }
   ],
   "source": [
    "from qiskit_textbook.widgets import dj_widget\n",
    "dj_widget(size=\"small\", case=\"balanced\")"
   ]
  },
  {
   "cell_type": "code",
   "execution_count": 30,
   "id": "00369f73-7f8b-4cd4-9d24-f87d862ab5dd",
   "metadata": {},
   "outputs": [],
   "source": [
    "from qiskit.providers.ibmq import least_busy"
   ]
  },
  {
   "cell_type": "markdown",
   "id": "744f2827-05ce-4d90-bcfe-8e49aeaa31ee",
   "metadata": {},
   "source": [
    "<b> 1) Creating a Generalised Oracle"
   ]
  },
  {
   "cell_type": "code",
   "execution_count": 33,
   "id": "5b2c53fe-bc17-4b4a-a48b-63d707e0c664",
   "metadata": {},
   "outputs": [],
   "source": [
    "def dj_oracle(case, n):\n",
    "    # We need to make a QuantumCircuit object to return\n",
    "    # This circuit has n+1 qubits: the size of the input,\n",
    "    # plus one output qubit\n",
    "    oracle_qc = QuantumCircuit(n+1)\n",
    "    \n",
    "    # First, let's deal with the case in which oracle is balanced\n",
    "    if case == \"balanced\":\n",
    "        # First generate a random number that tells us which CNOTs to\n",
    "        # wrap in X-gates:\n",
    "        b = np.random.randint(1,2**n)\n",
    "        # Next, format 'b' as a binary string of length 'n', padded with zeros:\n",
    "        b_str = format(b, '0'+str(n)+'b')\n",
    "        # Next, we place the first X-gates. Each digit in our binary string \n",
    "        # corresponds to a qubit, if the digit is 0, we do nothing, if it's 1\n",
    "        # we apply an X-gate to that qubit:\n",
    "        for qubit in range(len(b_str)):\n",
    "            if b_str[qubit] == '1':\n",
    "                oracle_qc.x(qubit)\n",
    "        # Do the controlled-NOT gates for each qubit, using the output qubit \n",
    "        # as the target:\n",
    "        for qubit in range(n):\n",
    "            oracle_qc.cx(qubit, n)\n",
    "        # Next, place the final X-gates\n",
    "        for qubit in range(len(b_str)):\n",
    "            if b_str[qubit] == '1':\n",
    "                oracle_qc.x(qubit)\n",
    "\n",
    "    # Case in which oracle is constant\n",
    "    if case == \"constant\":\n",
    "        # First decide what the fixed output of the oracle will be\n",
    "        # (either always 0 or always 1)\n",
    "        output = np.random.randint(2)\n",
    "        if output == 1:\n",
    "            oracle_qc.x(n)\n",
    "    \n",
    "    oracle_gate = oracle_qc.to_gate()\n",
    "    oracle_gate.name = \"Oracle\" # To show when we display the circuit\n",
    "    return oracle_gate"
   ]
  },
  {
   "cell_type": "markdown",
   "id": "5191e648-1424-4923-b73d-6de1a3ccf046",
   "metadata": {},
   "source": [
    "#### A function that takes this oracle gate and performs the Deutsch-Jozsa algorithm on it:"
   ]
  },
  {
   "cell_type": "code",
   "execution_count": 34,
   "id": "a5a5afe3-ca29-4d8d-a555-d74690f4edbf",
   "metadata": {},
   "outputs": [],
   "source": [
    "def dj_algorithm(oracle, n):\n",
    "    dj_circuit = QuantumCircuit(n+1, n)\n",
    "    # Set up the output qubit:\n",
    "    dj_circuit.x(n)\n",
    "    dj_circuit.h(n)\n",
    "    # And set up the input register:\n",
    "    for qubit in range(n):\n",
    "        dj_circuit.h(qubit)\n",
    "    # Let's append the oracle gate to our circuit:\n",
    "    dj_circuit.append(oracle, range(n+1))\n",
    "    # Finally, perform the H-gates again and measure:\n",
    "    for qubit in range(n):\n",
    "        dj_circuit.h(qubit)\n",
    "    \n",
    "    for i in range(n):\n",
    "        dj_circuit.measure(i, i)\n",
    "    \n",
    "    return dj_circuit"
   ]
  },
  {
   "cell_type": "code",
   "execution_count": 35,
   "id": "de96b0b8-10a8-4667-a5e5-796aad188731",
   "metadata": {},
   "outputs": [
    {
     "data": {
      "image/png": "[encoded data removed]",
      "text/plain": [
       "<Figure size 628.397x385.28 with 1 Axes>"
      ]
     },
     "execution_count": 35,
     "metadata": {},
     "output_type": "execute_result"
    }
   ],
   "source": [
    "n = 4\n",
    "oracle_gate = dj_oracle('balanced', n)\n",
    "dj_circuit = dj_algorithm(oracle_gate, n)\n",
    "dj_circuit.draw()"
   ]
  },
  {
   "cell_type": "code",
   "execution_count": 36,
   "id": "e50d0573-ed06-4587-ab07-98edcd4fe2c7",
   "metadata": {},
   "outputs": [
    {
     "name": "stderr",
     "output_type": "stream",
     "text": [
      "ibmqfactory.load_account:WARNING:2022-06-21 13:09:12,384: Credentials are already in use. The existing account in the session will be replaced.\n"
     ]
    },
    {
     "name": "stdout",
     "output_type": "stream",
     "text": [
      "least busy backend:  ibm_oslo\n"
     ]
    }
   ],
   "source": [
    "# Load our saved IBMQ accounts and get the least busy backend device with greater than or equal to (n+1) qubits\n",
    "IBMQ.load_account()\n",
    "provider = IBMQ.get_provider(hub='ibm-q')\n",
    "backend = least_busy(provider.backends(filters=lambda x: x.configuration().n_qubits >= (n+1) and\n",
    "                                   not x.configuration().simulator and x.status().operational==True))\n",
    "print(\"least busy backend: \", backend)"
   ]
  },
  {
   "cell_type": "code",
   "execution_count": 37,
   "id": "1f448698-1ff0-4594-9829-f04c4cb4f3c4",
   "metadata": {},
   "outputs": [
    {
     "name": "stdout",
     "output_type": "stream",
     "text": [
      "Job Status: job has successfully run\n"
     ]
    }
   ],
   "source": [
    "# Run our circuit on the least busy backend. Monitor the execution of the job in the queue\n",
    "from qiskit.tools.monitor import job_monitor\n",
    "\n",
    "transpiled_dj_circuit = transpile(dj_circuit, backend, optimization_level=3)\n",
    "job = backend.run(transpiled_dj_circuit)\n",
    "job_monitor(job, interval=2)"
   ]
  },
  {
   "cell_type": "code",
   "execution_count": 38,
   "id": "a265d708-5957-4c36-8b67-c3a2e8901ed1",
   "metadata": {},
   "outputs": [
    {
     "data": {
      "image/png": "[encoded data removed]",
      "text/plain": [
       "<Figure size 504x360 with 1 Axes>"
      ]
     },
     "execution_count": 38,
     "metadata": {},
     "output_type": "execute_result"
    }
   ],
   "source": [
    "# Get the results of the computation\n",
    "results = job.result()\n",
    "answer = results.get_counts()\n",
    "\n",
    "plot_histogram(answer)"
   ]
  },
  {
   "cell_type": "markdown",
   "id": "c444945a-e450-4a7d-969a-74c91ab0ac98",
   "metadata": {},
   "source": [
    "As we can see, the most likely result is `1111`. The other results are due to errors in the quantum computation. "
   ]
  },
  {
   "cell_type": "code",
   "execution_count": 2,
   "id": "97f0a21e-e047-47da-8312-d844c8c52460",
   "metadata": {},
   "outputs": [
    {
     "data": {
      "text/html": [
       "<h3>Version Information</h3><table><tr><th>Qiskit Software</th><th>Version</th></tr><tr><td><code>qiskit-terra</code></td><td>0.21.0</td></tr><tr><td><code>qiskit-aer</code></td><td>0.10.4</td></tr><tr><td><code>qiskit-ibmq-provider</code></td><td>0.19.2</td></tr><tr><td><code>qiskit</code></td><td>0.37.0</td></tr><tr><td><code>qiskit-nature</code></td><td>0.4.2</td></tr><tr><td><code>qiskit-finance</code></td><td>0.3.3</td></tr><tr><td><code>qiskit-optimization</code></td><td>0.4.0</td></tr><tr><td><code>qiskit-machine-learning</code></td><td>0.4.0</td></tr><tr><th>System information</th></tr><tr><td>Python version</td><td>3.8.13</td></tr><tr><td>Python compiler</td><td>GCC 10.3.0</td></tr><tr><td>Python build</td><td>default, Mar 25 2022 06:04:10</td></tr><tr><td>OS</td><td>Linux</td></tr><tr><td>CPUs</td><td>8</td></tr><tr><td>Memory (Gb)</td><td>31.211315155029297</td></tr><tr><td colspan='2'>Sat Jul 16 18:46:48 2022 UTC</td></tr></table>"
      ],
      "text/plain": [
       "<IPython.core.display.HTML object>"
      ]
     },
     "metadata": {},
     "output_type": "display_data"
    }
   ],
   "source": [
    "import qiskit.tools.jupyter\n",
    "%qiskit_version_table"
   ]
  },
  {
   "cell_type": "code",
   "execution_count": null,
   "id": "5fcd2b08-f1af-4c77-b1e7-47e8294b7a65",
   "metadata": {},
   "outputs": [],
   "source": []
  }
 ],
 "metadata": {
  "kernelspec": {
   "display_name": "Python 3 (ipykernel)",
   "language": "python",
   "name": "python3"
  },
  "language_info": {
   "codemirror_mode": {
    "name": "ipython",
    "version": 3
   },
   "file_extension": ".py",
   "mimetype": "text/x-python",
   "name": "python",
   "nbconvert_exporter": "python",
   "pygments_lexer": "ipython3",
   "version": "3.8.13"
  },
  "widgets": {
   "application/vnd.jupyter.widget-state+json": {
    "state": {
     "19dce0d3b55a45738a34d08ed25cb981": {
      "model_module": "@jupyter-widgets/base",
      "model_module_version": "1.2.0",
      "model_name": "LayoutModel",
      "state": {
       "width": "70px"
      }
     },
     "1c2d95c8792046c4b4c53ed395833da6": {
      "model_module": "@jupyter-widgets/controls",
      "model_module_version": "1.5.0",
      "model_name": "ButtonModel",
      "state": {
       "description": "Clear",
       "layout": "IPY_MODEL_adef61b4c137488aa14720ea22baa9a9",
       "style": "IPY_MODEL_b8f8a0a709364251a28d50e7de5b233b"
      }
     },
     "25cf38d860444531804b10e90ffc2abf": {
      "model_module": "@jupyter-widgets/base",
      "model_module_version": "1.2.0",
      "model_name": "LayoutModel",
      "state": {
       "grid_area": "right",
       "padding": "0px 0px 0px 0px",
       "width": "70px"
      }
     },
     "25fbd4026e5f407ca75dbf0d79631742": {
      "buffers": [
       {
        "data": "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",
        "encoding": "base64",
        "path": [
         "value"
        ]
       }
      ],
      "model_module": "@jupyter-widgets/controls",
      "model_module_version": "1.5.0",
      "model_name": "ImageModel",
      "state": {
       "layout": "IPY_MODEL_88d56e9729f8430586c3e6b8c0984c7a"
      }
     },
     "32369b3bfa2e4641ae513c7dbdeb8058": {
      "model_module": "@jupyter-widgets/base",
      "model_module_version": "1.2.0",
      "model_name": "LayoutModel",
      "state": {
       "grid_template_areas": "\n                                       \". . . . right \"\n                                        ",
       "grid_template_columns": "20% 20% 20% 20% 20%",
       "width": "100%"
      }
     },
     "328a3eff418747bbbc22c87def48b4b1": {
      "model_module": "@jupyter-widgets/controls",
      "model_module_version": "1.5.0",
      "model_name": "HTMLModel",
      "state": {
       "layout": "IPY_MODEL_8b3ab6a36a0f440c88c9e6d7f5d533f1",
       "style": "IPY_MODEL_5ef73d89c1d24150835afe5280e26c75",
       "value": "<p style='font-family: IBM Plex Sans, Arial, Helvetica, sans-serif; font-size: 20px; font-weight: medium;'>Circuit Properties</p>"
      }
     },
     "33da7389c2ac410a9f54bed95f690ece": {
      "model_module": "@jupyter-widgets/base",
      "model_module_version": "1.2.0",
      "model_name": "LayoutModel",
      "state": {}
     },
     "34d58db8d15f41f49e8039cfbca814fe": {
      "model_module": "@jupyter-widgets/controls",
      "model_module_version": "1.5.0",
      "model_name": "HTMLModel",
      "state": {
       "layout": "IPY_MODEL_cfffbce7e8674865be38463f7c546830",
       "style": "IPY_MODEL_bcaedf859ed2471d81130bb19bec2b28",
       "value": "<h5>Message</h5>"
      }
     },
     "54571f1a3c5a49d88afa4b369e3f194d": {
      "model_module": "@jupyter-widgets/base",
      "model_module_version": "1.2.0",
      "model_name": "LayoutModel",
      "state": {}
     },
     "5ae489159e8b48d297804cbb10e4bd15": {
      "model_module": "@jupyter-widgets/controls",
      "model_module_version": "1.5.0",
      "model_name": "GridBoxModel",
      "state": {
       "children": [
        "IPY_MODEL_ef701b49604941e09761da70ff36663b"
       ],
       "layout": "IPY_MODEL_32369b3bfa2e4641ae513c7dbdeb8058"
      }
     },
     "5d6c58cce61c4ce7a22f6386a5543b8a": {
      "model_module": "@jupyter-widgets/controls",
      "model_module_version": "1.5.0",
      "model_name": "DescriptionStyleModel",
      "state": {
       "description_width": ""
      }
     },
     "5ef73d89c1d24150835afe5280e26c75": {
      "model_module": "@jupyter-widgets/controls",
      "model_module_version": "1.5.0",
      "model_name": "DescriptionStyleModel",
      "state": {
       "description_width": ""
      }
     },
     "70ac7ff750b8497e8845c31848a2d402": {
      "model_module": "@jupyter-widgets/controls",
      "model_module_version": "1.5.0",
      "model_name": "HTMLModel",
      "state": {
       "layout": "IPY_MODEL_19dce0d3b55a45738a34d08ed25cb981",
       "style": "IPY_MODEL_80ce4fe81d9f45e3949369566d7726a0",
       "value": "<h5>Queue</h5>"
      }
     },
     "75e54cb4e6de4fc7bac71824f2b2884b": {
      "model_module": "@jupyter-widgets/controls",
      "model_module_version": "1.5.0",
      "model_name": "HTMLModel",
      "state": {
       "layout": "IPY_MODEL_f0825fb293d749dc91032bc599c83b54",
       "style": "IPY_MODEL_b2db4a29dbd24eef81b221168a4b0214",
       "value": "<h5>Job ID</h5>"
      }
     },
     "80ce4fe81d9f45e3949369566d7726a0": {
      "model_module": "@jupyter-widgets/controls",
      "model_module_version": "1.5.0",
      "model_name": "DescriptionStyleModel",
      "state": {
       "description_width": ""
      }
     },
     "813496c3181b4ec39a363719cf0853cb": {
      "model_module": "@jupyter-widgets/controls",
      "model_module_version": "1.5.0",
      "model_name": "ButtonModel",
      "state": {
       "description": "H⊗ⁿ",
       "layout": "IPY_MODEL_33da7389c2ac410a9f54bed95f690ece",
       "style": "IPY_MODEL_b3f5cbbfa87e494ea16a1c126af69832"
      }
     },
     "845b1d98839a483382ae4615a3b4a781": {
      "model_module": "@jupyter-widgets/controls",
      "model_module_version": "1.5.0",
      "model_name": "DescriptionStyleModel",
      "state": {
       "description_width": ""
      }
     },
     "88d56e9729f8430586c3e6b8c0984c7a": {
      "model_module": "@jupyter-widgets/base",
      "model_module_version": "1.2.0",
      "model_name": "LayoutModel",
      "state": {}
     },
     "8b3ab6a36a0f440c88c9e6d7f5d533f1": {
      "model_module": "@jupyter-widgets/base",
      "model_module_version": "1.2.0",
      "model_name": "LayoutModel",
      "state": {
       "margin": "0px 0px 10px 0px"
      }
     },
     "8c4621def51343df88be853f3ed518a9": {
      "model_module": "@jupyter-widgets/base",
      "model_module_version": "1.2.0",
      "model_name": "LayoutModel",
      "state": {
       "margin": "0px 0px 0px 37px",
       "width": "600px"
      }
     },
     "8f9b02e65df74cfc96fb461bc0856775": {
      "model_module": "@jupyter-widgets/controls",
      "model_module_version": "1.5.0",
      "model_name": "ButtonStyleModel",
      "state": {}
     },
     "adef61b4c137488aa14720ea22baa9a9": {
      "model_module": "@jupyter-widgets/base",
      "model_module_version": "1.2.0",
      "model_name": "LayoutModel",
      "state": {}
     },
     "b2db4a29dbd24eef81b221168a4b0214": {
      "model_module": "@jupyter-widgets/controls",
      "model_module_version": "1.5.0",
      "model_name": "DescriptionStyleModel",
      "state": {
       "description_width": ""
      }
     },
     "b3f5cbbfa87e494ea16a1c126af69832": {
      "model_module": "@jupyter-widgets/controls",
      "model_module_version": "1.5.0",
      "model_name": "ButtonStyleModel",
      "state": {}
     },
     "b48dcecebe274b59aaa27b752d9e9bb3": {
      "model_module": "@jupyter-widgets/controls",
      "model_module_version": "1.5.0",
      "model_name": "DescriptionStyleModel",
      "state": {
       "description_width": ""
      }
     },
     "b6696f4c042441b9a9bc7f1822e58da8": {
      "model_module": "@jupyter-widgets/controls",
      "model_module_version": "1.5.0",
      "model_name": "HTMLModel",
      "state": {
       "layout": "IPY_MODEL_c3db8266cafd42c5937068834564231e",
       "style": "IPY_MODEL_5d6c58cce61c4ce7a22f6386a5543b8a",
       "value": "<h5>Status</h5>"
      }
     },
     "b70f2d74ba394d1491417bdfd826c02e": {
      "model_module": "@jupyter-widgets/controls",
      "model_module_version": "1.5.0",
      "model_name": "HBoxModel",
      "state": {
       "children": [
        "IPY_MODEL_813496c3181b4ec39a363719cf0853cb",
        "IPY_MODEL_bc5bd353dcfd4b47b792f4d637ef96e8",
        "IPY_MODEL_1c2d95c8792046c4b4c53ed395833da6"
       ],
       "layout": "IPY_MODEL_54571f1a3c5a49d88afa4b369e3f194d"
      }
     },
     "b8f8a0a709364251a28d50e7de5b233b": {
      "model_module": "@jupyter-widgets/controls",
      "model_module_version": "1.5.0",
      "model_name": "ButtonStyleModel",
      "state": {}
     },
     "bc5bd353dcfd4b47b792f4d637ef96e8": {
      "model_module": "@jupyter-widgets/controls",
      "model_module_version": "1.5.0",
      "model_name": "ButtonModel",
      "state": {
       "description": "Oracle",
       "layout": "IPY_MODEL_d545e2242e314a7eaeb8a09e86ad8405",
       "style": "IPY_MODEL_8f9b02e65df74cfc96fb461bc0856775"
      }
     },
     "bcaedf859ed2471d81130bb19bec2b28": {
      "model_module": "@jupyter-widgets/controls",
      "model_module_version": "1.5.0",
      "model_name": "DescriptionStyleModel",
      "state": {
       "description_width": ""
      }
     },
     "bf1beabf57bd43d489fb018c8d439a96": {
      "model_module": "@jupyter-widgets/controls",
      "model_module_version": "1.5.0",
      "model_name": "HTMLModel",
      "state": {
       "layout": "IPY_MODEL_f24618a3ad4a4017bd5898653f8113e4",
       "style": "IPY_MODEL_845b1d98839a483382ae4615a3b4a781",
       "value": "<h5>Backend</h5>"
      }
     },
     "c3db8266cafd42c5937068834564231e": {
      "model_module": "@jupyter-widgets/base",
      "model_module_version": "1.2.0",
      "model_name": "LayoutModel",
      "state": {
       "width": "95px"
      }
     },
     "cd6a7b3f2db849e899aec4e1e8122e8f": {
      "model_module": "@jupyter-widgets/controls",
      "model_module_version": "1.5.0",
      "model_name": "HTMLMathModel",
      "state": {
       "layout": "IPY_MODEL_d0da29b4ae58445a968b6941d7c73a0e",
       "style": "IPY_MODEL_b48dcecebe274b59aaa27b752d9e9bb3",
       "value": "$$ |00\\rangle = |00\\rangle $$"
      }
     },
     "cfffbce7e8674865be38463f7c546830": {
      "model_module": "@jupyter-widgets/base",
      "model_module_version": "1.2.0",
      "model_name": "LayoutModel",
      "state": {}
     },
     "d0da29b4ae58445a968b6941d7c73a0e": {
      "model_module": "@jupyter-widgets/base",
      "model_module_version": "1.2.0",
      "model_name": "LayoutModel",
      "state": {}
     },
     "d545e2242e314a7eaeb8a09e86ad8405": {
      "model_module": "@jupyter-widgets/base",
      "model_module_version": "1.2.0",
      "model_name": "LayoutModel",
      "state": {}
     },
     "d65845f0508b4e8fb2a536d8b63739b3": {
      "model_module": "@jupyter-widgets/controls",
      "model_module_version": "1.5.0",
      "model_name": "ButtonStyleModel",
      "state": {}
     },
     "ef701b49604941e09761da70ff36663b": {
      "model_module": "@jupyter-widgets/controls",
      "model_module_version": "1.5.0",
      "model_name": "ButtonModel",
      "state": {
       "button_style": "primary",
       "description": "Clear",
       "layout": "IPY_MODEL_25cf38d860444531804b10e90ffc2abf",
       "style": "IPY_MODEL_d65845f0508b4e8fb2a536d8b63739b3"
      }
     },
     "f0825fb293d749dc91032bc599c83b54": {
      "model_module": "@jupyter-widgets/base",
      "model_module_version": "1.2.0",
      "model_name": "LayoutModel",
      "state": {
       "width": "190px"
      }
     },
     "f24618a3ad4a4017bd5898653f8113e4": {
      "model_module": "@jupyter-widgets/base",
      "model_module_version": "1.2.0",
      "model_name": "LayoutModel",
      "state": {
       "width": "145px"
      }
     },
     "f7e29bea4dbc4a36b5ff56c002b7bd6a": {
      "model_module": "@jupyter-widgets/controls",
      "model_module_version": "1.5.0",
      "model_name": "HBoxModel",
      "state": {
       "children": [
        "IPY_MODEL_75e54cb4e6de4fc7bac71824f2b2884b",
        "IPY_MODEL_bf1beabf57bd43d489fb018c8d439a96",
        "IPY_MODEL_b6696f4c042441b9a9bc7f1822e58da8",
        "IPY_MODEL_70ac7ff750b8497e8845c31848a2d402",
        "IPY_MODEL_34d58db8d15f41f49e8039cfbca814fe"
       ],
       "layout": "IPY_MODEL_8c4621def51343df88be853f3ed518a9"
      }
     }
    },
    "version_major": 2,
    "version_minor": 0
   }
  }
 },
 "nbformat": 4,
 "nbformat_minor": 5
}
